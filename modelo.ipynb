{
 "cells": [
  {
   "cell_type": "markdown",
   "id": "167c11f1",
   "metadata": {},
   "source": [
    "1. Investiga un caso en la vida real donde podremos aplicar un modelo de Regresión Logística. Fundamenta.\n",
    "\n",
    "2. Crea o selecciona un datasets que te permita entrenar tu modelo para abordar la problemática.\n",
    "\n",
    "3. Crea un modelo de regresión logística utilizando la librería Scikit Learn y entrenalo con los datos del datasets.\n",
    "\n",
    "4. Realiza un gráfico con la librería matplotlib de los datos de entrenamiento y las predicciones realizadas por el modelo."
   ]
  }
 ],
 "metadata": {
  "language_info": {
   "name": "python"
  }
 },
 "nbformat": 4,
 "nbformat_minor": 5
}
